{
 "cells": [
  {
   "cell_type": "code",
   "execution_count": null,
   "metadata": {},
   "outputs": [],
   "source": [
    "########################################################-CREATE LIST-###########################################################\n",
    "int_list = [1,2,3,4,5]"
   ]
  },
  {
   "cell_type": "code",
   "execution_count": null,
   "metadata": {},
   "outputs": [],
   "source": [
    "mixed_list =[1,2,40,34.34,\"3332\"]"
   ]
  },
  {
   "cell_type": "code",
   "execution_count": null,
   "metadata": {},
   "outputs": [],
   "source": [
    "int_List =[(23,33),(231,123)]"
   ]
  },
  {
   "cell_type": "code",
   "execution_count": null,
   "metadata": {},
   "outputs": [],
   "source": [
    "int_List"
   ]
  },
  {
   "cell_type": "code",
   "execution_count": null,
   "metadata": {},
   "outputs": [],
   "source": [
    "########################################################-LENGTH LIST-###########################################################\n",
    "len(int_List)"
   ]
  },
  {
   "cell_type": "code",
   "execution_count": null,
   "metadata": {},
   "outputs": [],
   "source": [
    "#######################################-PRINT EVERY TYPE OF DATA FROM LIST IN OUR CASE IS DATA TYPE TUPLE-#Create list######################\n",
    "for i in int_List:\n",
    "    print(i)"
   ]
  },
  {
   "cell_type": "code",
   "execution_count": null,
   "metadata": {},
   "outputs": [],
   "source": [
    "#########################################-INCAPSULATE DATA FROM EVERY TUPLE ELEMENT FROM LIST-##################################\n",
    "for i in int_List:\n",
    "    k,r = i\n",
    "    print(f\"k={k},i={r}\")"
   ]
  },
  {
   "cell_type": "code",
   "execution_count": null,
   "metadata": {},
   "outputs": [],
   "source": [
    "int_list"
   ]
  },
  {
   "cell_type": "code",
   "execution_count": null,
   "metadata": {},
   "outputs": [],
   "source": [
    "################################################-CHECK LIST DATA TYPE-###############################################\n",
    "type(int_list)"
   ]
  },
  {
   "cell_type": "code",
   "execution_count": null,
   "metadata": {},
   "outputs": [],
   "source": [
    "print(int_list[2])"
   ]
  },
  {
   "cell_type": "code",
   "execution_count": null,
   "metadata": {},
   "outputs": [],
   "source": [
    "################################################-SLICE LIST FROM FIRST ELEMENT-###############################################\n",
    "int_list[1:]"
   ]
  },
  {
   "cell_type": "code",
   "execution_count": null,
   "metadata": {},
   "outputs": [],
   "source": [
    "################################################-CONCATENATE TWO LIST-#########################################################\n",
    "name_list = [\"Vasea\",\"Ion\"]\n",
    "oras_lsit = [\"vA\",\"sELO\"]\n",
    "combi_list = name_list + oras_lsit\n",
    "print(combi_list)"
   ]
  },
  {
   "cell_type": "code",
   "execution_count": null,
   "metadata": {},
   "outputs": [],
   "source": [
    "################################################-DELETE AND RETURN LAST ELEMENT FROM LIST-######################################\n",
    "list_sum = [3,4,7,4,2,5,7,9,0,2]\n",
    "pop_deleted_element = list_sum.pop()\n",
    "print(\"Type of deleted elemenent {}\".format(type(pop_deleted_element)))\n",
    "print(\"Deleted element is {}\".format(pop_deleted_element))"
   ]
  },
  {
   "cell_type": "code",
   "execution_count": null,
   "metadata": {},
   "outputs": [],
   "source": [
    "################################################-ADD IN LIST, EXTRACT FROM LIST (X,Y )-#########################################\n",
    "r = 5\n",
    "w = 5\n",
    "range_list = range(1,6)                                                #define int array from 1 to 6\n",
    "list_sum = [(0,0)]\n",
    "w =0\n",
    "h =0\n",
    "for i in range_list:                                                   #to go through each element of list\n",
    "    list_sum.append((r+i,w+i))                                         #Add in list with method append\n",
    "print(list_sum)                                                        #print list_sum\n",
    "for i in list_sum:                                                     #to go through each element of list\n",
    "    w,h = i                                                            #asigment from tuple to two different variable\n",
    "    print(f\"w={w},h={h}\")                                              #print \"W\" and \"H\""
   ]
  },
  {
   "cell_type": "code",
   "execution_count": null,
   "metadata": {},
   "outputs": [],
   "source": [
    "################################################-DELETE AND RETURN LAST ELEMENT FROM LIST-######################################\n",
    "pop_deleted_element = list_sum.pop()                                    #delete last element from array\n",
    "print(\"Type of deleted elemenent {}\".format(type(pop_deleted_element))) #display type of deleted element\n",
    "print(\"Deleted element is {}\".format(pop_deleted_element))              #dislpay value of last deleted element\n",
    "list_sum                                                                #print list sum "
   ]
  },
  {
   "cell_type": "code",
   "execution_count": null,
   "metadata": {},
   "outputs": [],
   "source": [
    "################################################-DELETE FIRST ELEMENT-#########################################################\n",
    "pop_deleted_element = list_sum.pop(0)                                   #delete element from array with index[0]\n",
    "print(\"Type of deleted elemenent {}\".format(type(pop_deleted_element))) #display type of deleted element\n",
    "print(\"Deleted element is {}\".format(pop_deleted_element))              #dislpay value of deleted element\n",
    "list_sum                                                                #print list sum "
   ]
  },
  {
   "cell_type": "code",
   "execution_count": null,
   "metadata": {},
   "outputs": [],
   "source": [
    "#######################################################-SORT ONE LIST-#########################################################\n",
    "list_sum.append((1,1))                                                  #add element to list (1,1)\n",
    "print(\"List before sorting->>{}\".format(list_sum))                      #dysplay list before sorting\n",
    "list_sum.sort()                                                         #sort list with method .sort()\n",
    "print(\"List after sorting->>{}\".format(list_sum))                       #dislpay list after sort"
   ]
  },
  {
   "cell_type": "code",
   "execution_count": null,
   "metadata": {},
   "outputs": [],
   "source": [
    "########################################################-SORT BY KEY-#########################################################\n",
    "letters = [\"dawd\",\"wd\",\"wdadwadwa\",\"wda\",\"d\"]                           #define one list of string with different length\n",
    "letters.sort(key=len)                                                   #sort list by key=len(length of every element from list)\n",
    "print(letters)                                                          #display sorted list"
   ]
  },
  {
   "cell_type": "code",
   "execution_count": null,
   "metadata": {},
   "outputs": [],
   "source": [
    "################################################-SORT LIST OF INTEGER NUMBER-T###############################################\n",
    "integer_list = [9,8,7,5,6,4,3,1,2]                                      #define list of integer number\n",
    "print(\"List before sorting->>{}\".format(integer_list))                  #dysplay list before sorting\n",
    "integer_list.sort()                                                     #sort list with method .sort()\n",
    "print(\"List after sorting->>{}\".format(integer_list))                   #dislpay list after sort"
   ]
  },
  {
   "cell_type": "code",
   "execution_count": null,
   "metadata": {},
   "outputs": [],
   "source": [
    "################################################-REVERSE LIST-#################################################################\n",
    "integer_list = [9,8,7,5,6,4,3,1,2]                                      #define list of integer number\n",
    "print(\"List before sorting->>{}\".format(integer_list))                  #dysplay list before sorting\n",
    "integer_list.reverse()                                                  #reverse list\n",
    "print(\"List after sorting->>{}\".format(integer_list))                   #dislpay list after sort"
   ]
  },
  {
   "cell_type": "code",
   "execution_count": null,
   "metadata": {},
   "outputs": [],
   "source": [
    "###############################################-SORT BY REVERS LIST-############################################################\n",
    "integer_list = [9,4,7,5,6,8,3,1,2]                                      #define list of integer number\n",
    "print(\"List before sorting->>{}\".format(integer_list))                  #dysplay list before sorting\n",
    "integer_list.sort(reverse=True)                                         #sort by reverse \"reverse=True\"\n",
    "print(\"List after sorting->>{}\".format(integer_list))                   #dislpay list after sort"
   ]
  },
  {
   "cell_type": "code",
   "execution_count": null,
   "metadata": {},
   "outputs": [],
   "source": [
    "############################################-INSERT ELEMENT IN LIST-###########################################################\n",
    "integer_list = [9,4,7,5,6,8,3,1,2]                                      #define list of integer number\n",
    "print(\"List before inserting->>{}\".format(integer_list))                #dysplay list before insterting\n",
    "integer_list.insert(1,\"Insert\")                                         #insert element before 1 and 2 inserted element:\"Instert\"\n",
    "print(\"List after inserting->>{}\".format(integer_list))                 #dysplay list after insterting"
   ]
  },
  {
   "cell_type": "code",
   "execution_count": null,
   "metadata": {},
   "outputs": [],
   "source": [
    "################################################FIND INDEX OF ELEMENTE###############################################\n",
    "integer_list=[\"List ->\",9,8,7,6,5,4,3,3,2,1,]                           #define list\n",
    "index_list =[\"Index->\"]                                                 #define index list\n",
    "for i in integer_list:                                                  #to go trouch every element from list \n",
    "    index_list.append(integer_list.index(i))                            #find index of every element  from integer_list\n",
    "print(\"List ->{}\".format(integer_list))                                 #display list\n",
    "print(\"Index->{}\".format(index_list))                                   #dislpay list of index "
   ]
  },
  {
   "cell_type": "code",
   "execution_count": null,
   "metadata": {},
   "outputs": [],
   "source": [
    "################################################COPY LIST TO ANOTHER LIST###############################################\n",
    "copyl_list = integer_list.copy()                                        #copy list\n",
    "print(\"Copy list ->{}\".format(copyl_list))                              #display new list"
   ]
  },
  {
   "cell_type": "code",
   "execution_count": 26,
   "metadata": {},
   "outputs": [
    {
     "name": "stdout",
     "output_type": "stream",
     "text": [
      "List before cleaning->[2313, 321, 3123, 23, 312, '342', 'edad']\n",
      "List after cleaning->[]\n"
     ]
    }
   ],
   "source": [
    "#####################################################CLEAR LIST##########################################################\n",
    "list_to_clear = [2313,321,3123,23,312,\"342\",\"edad\"]                     #define list\n",
    "print(\"List before cleaning->{}\".format(list_to_clear))                 #display list before cleaning \n",
    "list_to_clear.clear()                                                   #clear list by method .clear()\n",
    "print(\"List after cleaning->{}\".format(list_to_clear))                  #dislpay list after cleaning "
   ]
  },
  {
   "cell_type": "code",
   "execution_count": 31,
   "metadata": {},
   "outputs": [
    {
     "data": {
      "text/plain": [
       "0"
      ]
     },
     "execution_count": 31,
     "metadata": {},
     "output_type": "execute_result"
    }
   ],
   "source": [
    "list_to_clear.count(312)"
   ]
  },
  {
   "cell_type": "code",
   "execution_count": 27,
   "metadata": {},
   "outputs": [
    {
     "name": "stdout",
     "output_type": "stream",
     "text": [
      "################################################CLEAR LIST###############################################\n"
     ]
    }
   ],
   "source": [
    "string = \"#Clear list\"\n",
    "e =\"###############################################\"\n",
    "b =\"###############################################\"\n",
    "print(e+string.upper()+b)"
   ]
  },
  {
   "cell_type": "code",
   "execution_count": null,
   "metadata": {},
   "outputs": [],
   "source": []
  }
 ],
 "metadata": {
  "kernelspec": {
   "display_name": "Python 3",
   "language": "python",
   "name": "python3"
  },
  "language_info": {
   "codemirror_mode": {
    "name": "ipython",
    "version": 3
   },
   "file_extension": ".py",
   "mimetype": "text/x-python",
   "name": "python",
   "nbconvert_exporter": "python",
   "pygments_lexer": "ipython3",
   "version": "3.7.3"
  }
 },
 "nbformat": 4,
 "nbformat_minor": 4
}
