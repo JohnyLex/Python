{
 "cells": [
  {
   "cell_type": "code",
   "execution_count": 4,
   "metadata": {},
   "outputs": [
    {
     "data": {
      "text/plain": [
       "28"
      ]
     },
     "execution_count": 4,
     "metadata": {},
     "output_type": "execute_result"
    }
   ],
   "source": [
    "#Length of string\n",
    "x =\"hello my names is, Victor!!!\"\n",
    "len(x)"
   ]
  },
  {
   "cell_type": "code",
   "execution_count": 6,
   "metadata": {},
   "outputs": [
    {
     "data": {
      "text/plain": [
       "'m'"
      ]
     },
     "execution_count": 6,
     "metadata": {},
     "output_type": "execute_result"
    }
   ],
   "source": [
    "#Acces one element from string wiht \"len\" function\n",
    "x[len(x)-22]"
   ]
  },
  {
   "cell_type": "code",
   "execution_count": 7,
   "metadata": {},
   "outputs": [
    {
     "data": {
      "text/plain": [
       "2"
      ]
     },
     "execution_count": 7,
     "metadata": {},
     "output_type": "execute_result"
    }
   ],
   "source": [
    "#Count char *n in string\n",
    "x.count(\"o\")"
   ]
  },
  {
   "cell_type": "code",
   "execution_count": 8,
   "metadata": {},
   "outputs": [
    {
     "data": {
      "text/plain": [
       "'Hello my names is, victor!!!'"
      ]
     },
     "execution_count": 8,
     "metadata": {},
     "output_type": "execute_result"
    }
   ],
   "source": [
    "#Capitalize first element from string\n",
    "x.capitalize()"
   ]
  },
  {
   "cell_type": "code",
   "execution_count": 9,
   "metadata": {},
   "outputs": [
    {
     "name": "stdout",
     "output_type": "stream",
     "text": [
      "HELLO MY NAMES IS, VICTOR!!!\n"
     ]
    }
   ],
   "source": [
    "#Upper all text\n",
    "upper_text = x.upper()\n",
    "print(upper_text)"
   ]
  },
  {
   "cell_type": "code",
   "execution_count": 10,
   "metadata": {},
   "outputs": [
    {
     "name": "stdout",
     "output_type": "stream",
     "text": [
      "hello my names is, victor!!!\n"
     ]
    }
   ],
   "source": [
    "#lower all text\n",
    "lower_text = x.lower()\n",
    "print(lower_text)"
   ]
  },
  {
   "cell_type": "code",
   "execution_count": 14,
   "metadata": {},
   "outputs": [
    {
     "name": "stdout",
     "output_type": "stream",
     "text": [
      "All symbols from string is upper ?\n",
      "->>Is False\n"
     ]
    }
   ],
   "source": [
    "#verify is al symbols from string is upp\n",
    "print(\"All symbols from string is upper ?\"+\"\\n->>Is {}\".format(lower_text.isupper()))"
   ]
  },
  {
   "cell_type": "code",
   "execution_count": 15,
   "metadata": {},
   "outputs": [
    {
     "name": "stdout",
     "output_type": "stream",
     "text": [
      "All symbols from string is upper ?\n",
      "->>Is True\n"
     ]
    }
   ],
   "source": [
    "#verify is al symbols from string is lower\n",
    "print(\"All symbols from string is upper ?\"+\"\\n->>Is {}\".format(lower_text.islower()))"
   ]
  },
  {
   "cell_type": "code",
   "execution_count": 16,
   "metadata": {},
   "outputs": [
    {
     "data": {
      "text/plain": [
       "'hello my names is, victor!!!'"
      ]
     },
     "execution_count": 16,
     "metadata": {},
     "output_type": "execute_result"
    }
   ],
   "source": [
    "lower_text"
   ]
  },
  {
   "cell_type": "code",
   "execution_count": 18,
   "metadata": {},
   "outputs": [
    {
     "name": "stdout",
     "output_type": "stream",
     "text": [
      "6\n"
     ]
    }
   ],
   "source": [
    "#find element in string with function find()\n",
    "print(lower_text.find(\"m\",0))"
   ]
  },
  {
   "cell_type": "code",
   "execution_count": 20,
   "metadata": {},
   "outputs": [
    {
     "name": "stdout",
     "output_type": "stream",
     "text": [
      "True\n",
      "False\n",
      "True\n",
      "True\n"
     ]
    }
   ],
   "source": [
    "#is the string number ?\n",
    "print(\"123er\".isalnum())\n",
    "print(\"123dws!\".isalnum())\n",
    "print(\"sdad\".isalnum())\n",
    "print(\"2323\".isalnum())"
   ]
  },
  {
   "cell_type": "code",
   "execution_count": 21,
   "metadata": {},
   "outputs": [
    {
     "name": "stdout",
     "output_type": "stream",
     "text": [
      "False\n",
      "True\n"
     ]
    }
   ],
   "source": [
    "#if in string are just number .isalpha(False) esle True\n",
    "print(\"123asa\".isalpha())\n",
    "print(\"dewasd\".isalpha())"
   ]
  },
  {
   "cell_type": "code",
   "execution_count": 23,
   "metadata": {},
   "outputs": [
    {
     "name": "stdout",
     "output_type": "stream",
     "text": [
      "True\n",
      "False\n"
     ]
    }
   ],
   "source": [
    "#check if string has space .ispace\n",
    "print(\"   \".isspace())\n",
    "print(\"\".isspace())"
   ]
  },
  {
   "cell_type": "code",
   "execution_count": 34,
   "metadata": {},
   "outputs": [
    {
     "name": "stdout",
     "output_type": "stream",
     "text": [
      "False\n",
      "False\n"
     ]
    }
   ],
   "source": [
    "#check empty string\n",
    "empty_string =\" d \"\n",
    "print(empty_string ==\"\")\n",
    "print(empty_string.strip(' ') ==\"\")"
   ]
  },
  {
   "cell_type": "code",
   "execution_count": 33,
   "metadata": {},
   "outputs": [
    {
     "name": "stdout",
     "output_type": "stream",
     "text": [
      "Empty\n"
     ]
    }
   ],
   "source": [
    "if not empty_string:\n",
    "    print(\"Not empty\")\n",
    "else:\n",
    "    print( \"Empty\")"
   ]
  },
  {
   "cell_type": "code",
   "execution_count": 37,
   "metadata": {},
   "outputs": [
    {
     "name": "stdout",
     "output_type": "stream",
     "text": [
      "hello my names is, Victor!!!\n",
      "Start with \"he\" is True\n",
      "End with \"!\" is True\n"
     ]
    }
   ],
   "source": [
    "#check if our string start and end with custom word or key\n",
    "print(x)\n",
    "print(\"Start with \\\"he\\\" is \"+\"{}\".format(x.startswith(\"he\")))#check start\n",
    "print(\"End with \\\"!\\\" is \"+\"{}\".format(x.endswith(\"!!\")))#check end"
   ]
  },
  {
   "cell_type": "code",
   "execution_count": 40,
   "metadata": {},
   "outputs": [
    {
     "name": "stdout",
     "output_type": "stream",
     "text": [
      "<class 'list'>\n",
      "['12', '34', '45', '772', '5324', '234', '234', '32', '4', '32']\n"
     ]
    }
   ],
   "source": [
    "#Split data\n",
    "server_response = \"12,34,45,772,5324,234,234,32,4,32\"\n",
    "server_response = server_response.split(\",\")\n",
    "print(type(server_response))\n",
    "print(server_response)"
   ]
  },
  {
   "cell_type": "code",
   "execution_count": 43,
   "metadata": {},
   "outputs": [
    {
     "name": "stdout",
     "output_type": "stream",
     "text": [
      "<class 'list'>\n",
      "1-->12\n",
      "2-->34\n",
      "3-->45\n",
      "4-->772\n",
      "5-->5324\n",
      "6-->234\n",
      "7-->234\n",
      "8-->32\n",
      "9-->4\n",
      "10-->32\n",
      "<class 'str'>\n"
     ]
    }
   ],
   "source": [
    "k = 1\n",
    "print(type(server_response))\n",
    "for i in server_response:\n",
    "    print(f\"{k}\"+\"-->\"+i)\n",
    "    k=k+1\n",
    "print(type(i))"
   ]
  },
  {
   "cell_type": "code",
   "execution_count": null,
   "metadata": {},
   "outputs": [],
   "source": []
  }
 ],
 "metadata": {
  "kernelspec": {
   "display_name": "Python 3",
   "language": "python",
   "name": "python3"
  },
  "language_info": {
   "codemirror_mode": {
    "name": "ipython",
    "version": 3
   },
   "file_extension": ".py",
   "mimetype": "text/x-python",
   "name": "python",
   "nbconvert_exporter": "python",
   "pygments_lexer": "ipython3",
   "version": "3.7.3"
  }
 },
 "nbformat": 4,
 "nbformat_minor": 4
}
